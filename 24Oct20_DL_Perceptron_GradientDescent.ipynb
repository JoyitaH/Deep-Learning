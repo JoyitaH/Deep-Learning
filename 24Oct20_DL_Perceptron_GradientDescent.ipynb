{
 "cells": [
  {
   "cell_type": "code",
   "execution_count": 2,
   "metadata": {},
   "outputs": [],
   "source": [
    "# Dataset\n",
    "x1 = [10, 8, 15]\n",
    "x2 = [8, 20, 25]\n",
    "y = [20, 15, 30]"
   ]
  },
  {
   "cell_type": "code",
   "execution_count": 3,
   "metadata": {},
   "outputs": [],
   "source": [
    "# Initial\n",
    "n = len(x1)           # num of observations\n",
    "alpha = 0.0001        # Learning Rate for Gradient Descent"
   ]
  },
  {
   "cell_type": "markdown",
   "metadata": {},
   "source": [
    "* find best values of w1, w2, b that fit the dataset\n",
    "* Eqn : y = w1x1 + w2x2 + b"
   ]
  },
  {
   "cell_type": "code",
   "execution_count": 4,
   "metadata": {},
   "outputs": [],
   "source": [
    "import numpy as np\n",
    "import matplotlib.pyplot as plt\n",
    "%matplotlib inline"
   ]
  },
  {
   "cell_type": "code",
   "execution_count": 5,
   "metadata": {},
   "outputs": [
    {
     "name": "stdout",
     "output_type": "stream",
     "text": [
      "Iitialized weights -> w1 : -1.0856306033005612, w2 : 0.9973454465835858, b : 0.28297849805199204\n"
     ]
    }
   ],
   "source": [
    "np.random.seed(123)\n",
    "random_init = np.random.randn(3)\n",
    "w1, w2, b = random_init[0], random_init[1], random_init[2]\n",
    "\n",
    "print(f\"Iitialized weights -> w1 : {w1}, w2 : {w2}, b : {b}\")"
   ]
  },
  {
   "cell_type": "code",
   "execution_count": 6,
   "metadata": {},
   "outputs": [],
   "source": [
    "# Model Training (Prediction and Evaluation using MSE)\n",
    "def forward_pass(w1, w2, b):\n",
    "    y_preds = []\n",
    "    total_error = 0\n",
    "\n",
    "    for i in range(n):\n",
    "        y_hat = w1*x1[i] + w2*x2[i] + b\n",
    "        y_preds.append(y_hat)      # predicted values\n",
    "        \n",
    "        # calculate MSE\n",
    "        E = (y_hat - y[i])**2\n",
    "        total_error = total_error + E\n",
    "        \n",
    "    return y_preds, total_error/n "
   ]
  },
  {
   "cell_type": "code",
   "execution_count": 7,
   "metadata": {},
   "outputs": [],
   "source": [
    "# Weight Optimisation using Gradient Descent\n",
    "def weight_update(w1, w2, b, y_preds):\n",
    "    for i in range(n):\n",
    "        dmse_dw1 = 2 * (y_preds[i] - y[i]) * x1[i]\n",
    "        dmse_dw2 = 2 * (y_preds[i] - y[i]) * x2[i]\n",
    "        dmse_db = 2 * (y_preds[i] - y[i])\n",
    "        \n",
    "        # Stochastic Gradient Descent - updating weights for each sample\n",
    "        w1 = w1 - alpha * dmse_dw1\n",
    "        w2 = w2 - alpha * dmse_dw2\n",
    "        b = b - alpha * dmse_db\n",
    "        \n",
    "    return w1, w2, b\n",
    "        "
   ]
  },
  {
   "cell_type": "code",
   "execution_count": 8,
   "metadata": {},
   "outputs": [
    {
     "name": "stdout",
     "output_type": "stream",
     "text": [
      "Initialised weights -> w1: -1.0856306033005612, w2: 0.9973454465835858, b: 0.28297849805199204\n",
      "Iteration 0 -> Error : 322.1021667969523\n",
      "Iteration 1 -> Error : 277.9574275862123\n",
      "Iteration 2 -> Error : 240.3893922705133\n",
      "Iteration 3 -> Error : 208.36671117981294\n",
      "Iteration 4 -> Error : 181.02445311535269\n",
      "Iteration 5 -> Error : 157.6368477885402\n",
      "Iteration 6 -> Error : 137.59452667289054\n",
      "Iteration 7 -> Error : 120.38551707665825\n",
      "Iteration 8 -> Error : 105.57936791984748\n",
      "Iteration 9 -> Error : 92.81388883061516\n",
      "Iteration 10 -> Error : 81.78407017706054\n",
      "Iteration 11 -> Error : 72.23282336782033\n",
      "Iteration 12 -> Error : 63.94324056234532\n",
      "Iteration 13 -> Error : 56.73212280827973\n",
      "Iteration 14 -> Error : 50.444567219098154\n",
      "Iteration 15 -> Error : 44.949438495899805\n",
      "Iteration 16 -> Error : 40.135579030194144\n",
      "Iteration 17 -> Error : 35.908635956120555\n",
      "Iteration 18 -> Error : 32.18840364837853\n",
      "Iteration 19 -> Error : 28.90659695119045\n",
      "Iteration 20 -> Error : 26.004984428371316\n",
      "Iteration 21 -> Error : 23.433822607380836\n",
      "Iteration 22 -> Error : 21.150541936612345\n",
      "Iteration 23 -> Error : 19.118643306593142\n",
      "Iteration 24 -> Error : 17.306770770295582\n",
      "Iteration 25 -> Error : 15.687931758913322\n",
      "Iteration 26 -> Error : 14.238840813639465\n",
      "Iteration 27 -> Error : 12.93936679663049\n",
      "Iteration 28 -> Error : 11.772066835071683\n",
      "Iteration 29 -> Error : 10.721792999174104\n",
      "Iteration 30 -> Error : 9.775360008176387\n",
      "Iteration 31 -> Error : 8.92126417317841\n",
      "Iteration 32 -> Error : 8.149445384600183\n",
      "Iteration 33 -> Error : 7.451085287532492\n",
      "Iteration 34 -> Error : 6.8184359038438656\n",
      "Iteration 35 -> Error : 6.244673892011636\n",
      "Iteration 36 -> Error : 5.723776414600614\n",
      "Iteration 37 -> Error : 5.250415234434434\n",
      "Iteration 38 -> Error : 4.819866204910351\n",
      "Iteration 39 -> Error : 4.4279317752143745\n",
      "Iteration 40 -> Error : 4.070874512100776\n",
      "Iteration 41 -> Error : 3.745359958669811\n",
      "Iteration 42 -> Error : 3.448407417445862\n",
      "Iteration 43 -> Error : 3.1773474685638075\n",
      "Iteration 44 -> Error : 2.9297852211425734\n",
      "Iteration 45 -> Error : 2.703568452909838\n",
      "Iteration 46 -> Error : 2.4967599248081287\n",
      "Iteration 47 -> Error : 2.3076132678044226\n",
      "Iteration 48 -> Error : 2.1345519319066226\n",
      "Iteration 49 -> Error : 1.9761507653506003\n",
      "Iteration 50 -> Error : 1.8311198574762908\n",
      "Iteration 51 -> Error : 1.6982903339780349\n",
      "Iteration 52 -> Error : 1.5766018396779018\n",
      "Iteration 53 -> Error : 1.4650914831407806\n",
      "Iteration 54 -> Error : 1.3628840505032391\n",
      "Iteration 55 -> Error : 1.2691833238099044\n",
      "Iteration 56 -> Error : 1.1832643627648067\n",
      "Iteration 57 -> Error : 1.1044666287993785\n",
      "Iteration 58 -> Error : 1.0321878473113595\n",
      "Iteration 59 -> Error : 0.9658785183213358\n",
      "Iteration 60 -> Error : 0.9050369980314351\n",
      "Iteration 61 -> Error : 0.8492050841924423\n",
      "Iteration 62 -> Error : 0.7979640470751382\n",
      "Iteration 63 -> Error : 0.7509310554379302\n",
      "Iteration 64 -> Error : 0.7077559533853973\n",
      "Iteration 65 -> Error : 0.6681183495894656\n",
      "Iteration 66 -> Error : 0.6317249851377436\n",
      "Iteration 67 -> Error : 0.5983073504007755\n",
      "Iteration 68 -> Error : 0.5676195248717574\n",
      "Iteration 69 -> Error : 0.5394362170124928\n",
      "Iteration 70 -> Error : 0.5135509838092968\n",
      "Iteration 71 -> Error : 0.48977461206229894\n",
      "Iteration 72 -> Error : 0.4679336454511662\n",
      "Iteration 73 -> Error : 0.4478690431832884\n",
      "Iteration 74 -> Error : 0.4294349575726765\n",
      "Iteration 75 -> Error : 0.4124976192502074\n",
      "Iteration 76 -> Error : 0.3969343198945374\n",
      "Iteration 77 -> Error : 0.3826324834203467\n",
      "Iteration 78 -> Error : 0.3694888174851347\n",
      "Iteration 79 -> Error : 0.35740853799432193\n",
      "Iteration 80 -> Error : 0.34630466001016585\n",
      "Iteration 81 -> Error : 0.33609734911519223\n",
      "Iteration 82 -> Error : 0.3267133278555015\n",
      "Iteration 83 -> Error : 0.3180853324021014\n",
      "Iteration 84 -> Error : 0.3101516150270743\n",
      "Iteration 85 -> Error : 0.30285548840209187\n",
      "Iteration 86 -> Error : 0.2961449080955814\n",
      "Iteration 87 -> Error : 0.28997208997611645\n",
      "Iteration 88 -> Error : 0.2842931595280968\n",
      "Iteration 89 -> Error : 0.27906783035471766\n",
      "Iteration 90 -> Error : 0.2742591093862284\n",
      "Iteration 91 -> Error : 0.2698330265311153\n",
      "Iteration 92 -> Error : 0.26575838670666657\n",
      "Iteration 93 -> Error : 0.2620065423655971\n",
      "Iteration 94 -> Error : 0.2585511847989767\n",
      "Iteration 95 -> Error : 0.2553681526441477\n",
      "Iteration 96 -> Error : 0.25243525616136175\n",
      "Iteration 97 -> Error : 0.2497321159657262\n",
      "Iteration 98 -> Error : 0.24724001501283333\n",
      "Iteration 99 -> Error : 0.24494176273845844\n"
     ]
    }
   ],
   "source": [
    "# Params\n",
    "alpha = 0.00066\n",
    "iterations = 100\n",
    "\n",
    "# Initialise weights\n",
    "np.random.seed(123)\n",
    "random_init = np.random.randn(3)\n",
    "w1, w2, b = random_init[0], random_init[1], random_init[2]\n",
    "print(f\"Initialised weights -> w1: {w1}, w2: {w2}, b: {b}\")\n",
    "\n",
    "# Model training\n",
    "n = len(x1)\n",
    "error = []\n",
    "\n",
    "for iter_num in range(iterations):\n",
    "    y_preds, total_error = forward_pass(w1, w2, b)\n",
    "    print(f\"Iteration {iter_num} -> Error : {total_error}\")\n",
    "    error.append(total_error)\n",
    "    w1, w2, b = weight_update(w1, w2, b, y_preds)\n"
   ]
  },
  {
   "cell_type": "code",
   "execution_count": 9,
   "metadata": {},
   "outputs": [
    {
     "data": {
      "image/png": "[encoded data removed]",
      "text/plain": [
       "<Figure size 640x480 with 1 Axes>"
      ]
     },
     "metadata": {},
     "output_type": "display_data"
    }
   ],
   "source": [
    "# Plot MSE\n",
    "plt.plot(error)\n",
    "plt.xlabel(\"Iterations\")\n",
    "plt.ylabel(\"MSE\")\n",
    "plt.grid()"
   ]
  },
  {
   "cell_type": "code",
   "execution_count": 10,
   "metadata": {},
   "outputs": [
    {
     "name": "stdout",
     "output_type": "stream",
     "text": [
      "Optimal value of weights -> w1: 2.0045849432004403, w2: -0.04257536908492501, b: 0.45634842565099304\n"
     ]
    }
   ],
   "source": [
    "# Optimal Weights \n",
    "print(f\"Optimal value of weights -> w1: {w1}, w2: {w2}, b: {b}\")"
   ]
  },
  {
   "cell_type": "code",
   "execution_count": 14,
   "metadata": {},
   "outputs": [
    {
     "name": "stdout",
     "output_type": "stream",
     "text": [
      "MSE (minima) for optimal weights -> Error : 0.24494176273845844\n"
     ]
    }
   ],
   "source": [
    "# Minima of the Gradient Descent Graph\n",
    "print(f\"MSE (minima) for optimal weights -> Error : {error[-1]}\")"
   ]
  },
  {
   "cell_type": "code",
   "execution_count": null,
   "metadata": {},
   "outputs": [],
   "source": []
  },
  {
   "cell_type": "code",
   "execution_count": 11,
   "metadata": {},
   "outputs": [
    {
     "name": "stdout",
     "output_type": "stream",
     "text": [
      "Iitialized weights -> w1 : 2.0045849432004403, w2 : -0.04257536908492501, b : 0.45634842565099304\n",
      "Iteration 1 -> Error: 0.24282157034562454\n",
      "Updated weights -> w1: 2.006354813767663, w2: -0.04342232028138797, b: 0.45600013858078525\n",
      "Iteration 2 -> Error: 0.2408649363171319\n",
      "Updated weights -> w1: 2.0079186175620953, w2: -0.044464210834998824, b: 0.4556353878711718\n",
      "Iteration 3 -> Error: 0.2390585413091114\n",
      "Updated weights -> w1: 2.0095411346764944, w2: -0.045252382516280956, b: 0.45527685294421355\n"
     ]
    }
   ],
   "source": [
    "# Initialisation of weights\n",
    "print(f\"Iitialized weights -> w1 : {w1}, w2 : {w2}, b : {b}\")\n",
    "\n",
    "# Iteration 1\n",
    "\n",
    "## Step 1: Forward Pass\n",
    "y_preds, total_error = forward_pass(w1, w2, b)\n",
    "print(f\"Iteration 1 -> Error: {total_error}\")\n",
    "\n",
    "## Step 2: Weight Update\n",
    "w1, w2, b = weight_update(w1, w2, b, y_preds)\n",
    "print(f\"Updated weights -> w1: {w1}, w2: {w2}, b: {b}\")\n",
    "\n",
    "# Iteration 2\n",
    "\n",
    "## Step 1: Forward Pass\n",
    "y_preds, total_error = forward_pass(w1, w2, b)\n",
    "print(f\"Iteration 2 -> Error: {total_error}\")\n",
    "\n",
    "## Step 2: Weight Update\n",
    "w1, w2, b = weight_update(w1, w2, b, y_preds)\n",
    "print(f\"Updated weights -> w1: {w1}, w2: {w2}, b: {b}\")\n",
    "\n",
    "# Iteration 3\n",
    "\n",
    "## Step 1: Forward Pass\n",
    "y_preds, total_error = forward_pass(w1, w2, b)\n",
    "print(f\"Iteration 3 -> Error: {total_error}\")\n",
    "\n",
    "## Step 2: Weight Update\n",
    "w1, w2, b = weight_update(w1, w2, b, y_preds)\n",
    "print(f\"Updated weights -> w1: {w1}, w2: {w2}, b: {b}\")"
   ]
  },
  {
   "cell_type": "code",
   "execution_count": null,
   "metadata": {},
   "outputs": [],
   "source": []
  }
 ],
 "metadata": {
  "kernelspec": {
   "display_name": "Python 3",
   "language": "python",
   "name": "python3"
  },
  "language_info": {
   "codemirror_mode": {
    "name": "ipython",
    "version": 3
   },
   "file_extension": ".py",
   "mimetype": "text/x-python",
   "name": "python",
   "nbconvert_exporter": "python",
   "pygments_lexer": "ipython3",
   "version": "3.11.9"
  }
 },
 "nbformat": 4,
 "nbformat_minor": 2
}
